{
 "cells": [
  {
   "cell_type": "code",
   "execution_count": 13,
   "metadata": {},
   "outputs": [],
   "source": [
    "\n",
    "import os"
   ]
  },
  {
   "cell_type": "code",
   "execution_count": 14,
   "metadata": {},
   "outputs": [
    {
     "data": {
      "text/plain": [
       "'c:\\\\Users\\\\USER\\\\Documents\\\\GitHub\\\\End-to-End-Customer-Churn-Prediction-using-MLflow-and-DVC'"
      ]
     },
     "execution_count": 14,
     "metadata": {},
     "output_type": "execute_result"
    }
   ],
   "source": [
    "%pwd"
   ]
  },
  {
   "cell_type": "code",
   "execution_count": 3,
   "metadata": {},
   "outputs": [],
   "source": [
    "os.chdir('../')"
   ]
  },
  {
   "cell_type": "code",
   "execution_count": 38,
   "metadata": {},
   "outputs": [
    {
     "data": {
      "text/plain": [
       "'c:\\\\Users\\\\USER\\\\Documents\\\\GitHub\\\\End-to-End-Customer-Churn-Prediction-using-MLflow-and-DVC'"
      ]
     },
     "execution_count": 38,
     "metadata": {},
     "output_type": "execute_result"
    }
   ],
   "source": [
    "%pwd"
   ]
  },
  {
   "cell_type": "code",
   "execution_count": 39,
   "metadata": {},
   "outputs": [],
   "source": [
    "from dataclasses import dataclass\n",
    "from pathlib import Path\n",
    "\n",
    "\n",
    "@dataclass(frozen=True)\n",
    "class DataTransformationConfig:\n",
    "    root_dir: Path\n",
    "    data_path: Path\n",
    "    target_column: str"
   ]
  },
  {
   "cell_type": "code",
   "execution_count": 40,
   "metadata": {},
   "outputs": [],
   "source": [
    "from mlFlowProject.constants import *\n",
    "from mlFlowProject.utils.common import read_yaml, create_directories"
   ]
  },
  {
   "cell_type": "code",
   "execution_count": 41,
   "metadata": {},
   "outputs": [],
   "source": [
    "class ConfigurationManager:\n",
    "    def __init__(\n",
    "        self,\n",
    "        config_filepath = CONFIG_FILE_PATH,\n",
    "        params_filepath = PARAMS_FILE_PATH,\n",
    "        schema_filepath = SCHEMA_FILE_PATH):\n",
    "\n",
    "        self.config = read_yaml(config_filepath)\n",
    "        self.params = read_yaml(params_filepath)\n",
    "        self.schema = read_yaml(schema_filepath)\n",
    "\n",
    "        create_directories([self.config.artifacts_root])\n",
    "\n",
    "    \n",
    "    def get_data_transformation_config(self) -> DataTransformationConfig:\n",
    "        config = self.config.data_transformation\n",
    "        schema = self.schema.TARGET_COLUMN\n",
    "\n",
    "        create_directories([config.root_dir])\n",
    "\n",
    "        data_transformation_config = DataTransformationConfig(\n",
    "            root_dir=config.root_dir,\n",
    "            data_path=config.data_path,\n",
    "            target_column=schema.name\n",
    "        )\n",
    "\n",
    "        return data_transformation_config"
   ]
  },
  {
   "cell_type": "code",
   "execution_count": 42,
   "metadata": {},
   "outputs": [],
   "source": [
    "import os\n",
    "from mlFlowProject import logger\n",
    "from sklearn.model_selection import train_test_split\n",
    "import pandas as pd\n",
    "import numpy as np\n",
    "\n",
    "from sklearn.pipeline import Pipeline\n",
    "from sklearn.preprocessing import MinMaxScaler, OneHotEncoder\n",
    "from sklearn.compose import ColumnTransformer"
   ]
  },
  {
   "cell_type": "code",
   "execution_count": 53,
   "metadata": {},
   "outputs": [],
   "source": [
    "class DataTransformation:\n",
    "    def __init__(self, config: DataTransformationConfig):\n",
    "        self.config = config\n",
    "        \n",
    "    def preprocess_data(self, data):\n",
    "        X = data.drop(columns=self.config.target_column)\n",
    "        y = data[self.config.target_column]\n",
    "\n",
    "        # Map the 'Gender' column\n",
    "        mapping = {'Male': 0, 'Female': 1}\n",
    "        X['Gender'] = X['Gender'].map(mapping)\n",
    "\n",
    "        num_cols = X.select_dtypes(include=np.number).columns.to_list()\n",
    "        cat_cols = X.select_dtypes(exclude=np.number).columns.to_list()\n",
    "\n",
    "        num_pipeline = Pipeline(steps=[\n",
    "            ('scaler', MinMaxScaler())\n",
    "        ])\n",
    "\n",
    "        cat_pipeline = Pipeline(steps=[\n",
    "            ('one_hot_enc', OneHotEncoder(handle_unknown='ignore', sparse_output=False))\n",
    "        ])\n",
    "\n",
    "        col_trans = ColumnTransformer(transformers=[\n",
    "            ('num_pipeline', num_pipeline, num_cols),\n",
    "            ('cat_pipeline', cat_pipeline, cat_cols),\n",
    "        ], remainder='drop', n_jobs=-1)\n",
    "\n",
    "        X_preprocessed = col_trans.fit_transform(X)\n",
    "\n",
    "        # Get the list of output feature names from the column transformer\n",
    "        feature_names = col_trans.get_feature_names_out()\n",
    "\n",
    "        # Create a new DataFrame from the numpy array and assign the column names to it\n",
    "        X_preprocessed = pd.DataFrame(X_preprocessed, columns=feature_names)\n",
    "\n",
    "        return X_preprocessed, y\n",
    "\n",
    "    \n",
    "    def train_test_splitting(self):\n",
    "        data = pd.read_csv(self.config.data_path)\n",
    "\n",
    "        # Split the data into training and test sets. (0.75, 0.25) split.\n",
    "        train, test = train_test_split(data, test_size=0.25)\n",
    "\n",
    "        # Preprocess the train and test data\n",
    "        X_train, y_train = self.preprocess_data(train)\n",
    "        X_test, y_test = self.preprocess_data(test)\n",
    "\n",
    "        # Save the processed data\n",
    "        train_processed = pd.concat([X_train, y_train.reset_index(drop=True)], axis=1)\n",
    "        test_processed = pd.concat([X_test, y_test.reset_index(drop=True)], axis=1)\n",
    "\n",
    "        train_processed.to_csv(os.path.join(self.config.root_dir, \"train.csv\"), index=False)\n",
    "        test_processed.to_csv(os.path.join(self.config.root_dir, \"test.csv\"), index=False)\n",
    "\n",
    "        logger.info(\"Data split into training and test sets\")\n",
    "        logger.info(f\"Train shape: {train.shape}\")\n",
    "        logger.info(f\"Test shape: {test.shape}\")\n",
    "\n",
    "        print(f\"Train shape: {train.shape}\")\n",
    "        print(f\"Test shape: {test.shape}\")"
   ]
  },
  {
   "cell_type": "code",
   "execution_count": 54,
   "metadata": {},
   "outputs": [
    {
     "name": "stdout",
     "output_type": "stream",
     "text": [
      "[2024-05-25 12:38:12,912: INFO: common: yaml file: config\\config.yaml loaded successfully]\n",
      "[2024-05-25 12:38:12,914: INFO: common: yaml file: params.yaml loaded successfully]\n",
      "[2024-05-25 12:38:12,920: INFO: common: yaml file: schema.yaml loaded successfully]\n",
      "[2024-05-25 12:38:12,922: INFO: common: created directory at: artifacts]\n",
      "[2024-05-25 12:38:12,923: INFO: common: created directory at: artifacts/data_transformation]\n",
      "[2024-05-25 12:38:36,628: INFO: 2955539026: Data split into training and test sets]\n",
      "[2024-05-25 12:38:36,630: INFO: 2955539026: Train shape: (7501, 14)]\n",
      "[2024-05-25 12:38:36,631: INFO: 2955539026: Test shape: (2501, 14)]\n",
      "Train shape: (7501, 14)\n",
      "Test shape: (2501, 14)\n"
     ]
    }
   ],
   "source": [
    "try:\n",
    "    config = ConfigurationManager()\n",
    "    data_transformation_config = config.get_data_transformation_config()\n",
    "    data_transformation = DataTransformation(config=data_transformation_config)\n",
    "    data_transformation.train_test_splitting()\n",
    "except Exception as e:\n",
    "    raise e"
   ]
  },
  {
   "cell_type": "code",
   "execution_count": null,
   "metadata": {},
   "outputs": [],
   "source": []
  }
 ],
 "metadata": {
  "kernelspec": {
   "display_name": "venv",
   "language": "python",
   "name": "python3"
  },
  "language_info": {
   "codemirror_mode": {
    "name": "ipython",
    "version": 3
   },
   "file_extension": ".py",
   "mimetype": "text/x-python",
   "name": "python",
   "nbconvert_exporter": "python",
   "pygments_lexer": "ipython3",
   "version": "3.9.5"
  }
 },
 "nbformat": 4,
 "nbformat_minor": 2
}
